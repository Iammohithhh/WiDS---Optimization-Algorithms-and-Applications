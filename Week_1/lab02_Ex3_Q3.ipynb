{
  "nbformat": 4,
  "nbformat_minor": 0,
  "metadata": {
    "colab": {
      "provenance": []
    },
    "kernelspec": {
      "name": "python3",
      "display_name": "Python 3"
    },
    "language_info": {
      "name": "python"
    }
  },
  "cells": [
    {
      "cell_type": "code",
      "execution_count": null,
      "metadata": {
        "colab": {
          "base_uri": "https://localhost:8080/",
          "height": 927
        },
        "id": "2FvP3qDB_pbK",
        "outputId": "4a76c668-4a54-4498-bc06-1ea5aaf28c08"
      },
      "outputs": [
        {
          "output_type": "stream",
          "name": "stderr",
          "text": [
            "<ipython-input-2-777cf856d39f>:18: RuntimeWarning: overflow encountered in scalar divide\n",
            "  return sum((x[i] - (i+1)**2)**2 / P(i+1) for i in range(n))\n",
            "<ipython-input-2-777cf856d39f>:18: RuntimeWarning: overflow encountered in scalar power\n",
            "  return sum((x[i] - (i+1)**2)**2 / P(i+1) for i in range(n))\n",
            "<ipython-input-2-777cf856d39f>:24: RuntimeWarning: overflow encountered in scalar divide\n",
            "  grad[i] = 2 * (x[i] - (i+1)**2) / P(i+1)\n",
            "<ipython-input-2-777cf856d39f>:55: RuntimeWarning: invalid value encountered in subtract\n",
            "  while g(x - alpha * grad) > g(x - (alpha + step) * grad):\n",
            "<ipython-input-2-777cf856d39f>:44: RuntimeWarning: invalid value encountered in subtract\n",
            "  x -= alpha * grad\n"
          ]
        },
        {
          "output_type": "display_data",
          "data": {
            "text/plain": [
              "<Figure size 1000x800 with 1 Axes>"
            ],
            "image/png": "[encoded data removed]"
          },
          "metadata": {}
        },
        {
          "output_type": "stream",
          "name": "stderr",
          "text": [
            "<ipython-input-2-777cf856d39f>:18: RuntimeWarning: overflow encountered in scalar add\n",
            "  return sum((x[i] - (i+1)**2)**2 / P(i+1) for i in range(n))\n"
          ]
        }
      ],
      "source": [
        "import numpy as np\n",
        "import matplotlib.pyplot as plt\n",
        "import time\n",
        "\n",
        "# Define the periodic function P(i)\n",
        "def P(i):\n",
        "    values = {7: 1/4, 77: 1/16, 222: 1/256, 4444: 1/64}\n",
        "    period = 4\n",
        "    i_mod = i % period\n",
        "    for key, value in values.items():\n",
        "        if key % period == i_mod:\n",
        "            return value\n",
        "    return 1.0  # Default value if not specified\n",
        "\n",
        "# Define the function g(x), its gradient, and Hessian\n",
        "def g(x):\n",
        "    n = len(x)\n",
        "    return sum((x[i] - (i+1)**2)**2 / P(i+1) for i in range(n))\n",
        "\n",
        "def grad_g(x):\n",
        "    n = len(x)\n",
        "    grad = np.zeros(n)\n",
        "    for i in range(n):\n",
        "        grad[i] = 2 * (x[i] - (i+1)**2) / P(i+1)\n",
        "    return grad\n",
        "\n",
        "def hessian_g(x):\n",
        "    n = len(x)\n",
        "    hess = np.zeros((n, n))\n",
        "    for i in range(n):\n",
        "        hess[i, i] = 2 / P(i+1)\n",
        "    return hess\n",
        "\n",
        "# Gradient Descent with Exact Line Search\n",
        "def gradient_descent(x0, tol=1e-15):\n",
        "    x = x0.copy()\n",
        "    trajectory = [x.copy()]\n",
        "    iterations = 0\n",
        "    start_time = time.time()\n",
        "\n",
        "    while np.linalg.norm(grad_g(x)) > tol:\n",
        "        grad = grad_g(x)\n",
        "        alpha = exact_line_search(x, grad)\n",
        "        x -= alpha * grad\n",
        "        trajectory.append(x.copy())\n",
        "        iterations += 1\n",
        "\n",
        "    end_time = time.time()\n",
        "    return x, g(x), iterations, end_time - start_time, trajectory\n",
        "\n",
        "def exact_line_search(x, grad):\n",
        "    # Perform exact line search to minimize g(x - alpha * grad)\n",
        "    alpha = 0.01  # Initial step size\n",
        "    step = 1e-4   # Small step to find the optimal alpha\n",
        "    while g(x - alpha * grad) > g(x - (alpha + step) * grad):\n",
        "        alpha += step\n",
        "    return alpha\n",
        "\n",
        "# Newton's Method\n",
        "def newtons_method(x0, tol=1e-15):\n",
        "    x = x0.copy()\n",
        "    trajectory = [x.copy()]\n",
        "    iterations = 0\n",
        "    start_time = time.time()\n",
        "\n",
        "    while np.linalg.norm(grad_g(x)) > tol:\n",
        "        grad = grad_g(x)\n",
        "        hess = hessian_g(x)\n",
        "        x -= np.linalg.solve(hess, grad)\n",
        "        trajectory.append(x.copy())\n",
        "        iterations += 1\n",
        "\n",
        "    end_time = time.time()\n",
        "    return x, g(x), iterations, end_time - start_time, trajectory\n",
        "\n",
        "# Visualization for n = 2\n",
        "def plot_trajectories(trajectory_gd, trajectory_nm):\n",
        "    x1 = np.linspace(-10, 20, 400)\n",
        "    x2 = np.linspace(-10, 20, 400)\n",
        "    X1, X2 = np.meshgrid(x1, x2)\n",
        "    Z = np.array([[g(np.array([x1, x2])) for x1, x2 in zip(row_x1, row_x2)] for row_x1, row_x2 in zip(X1, X2)])\n",
        "\n",
        "    plt.figure(figsize=(10, 8))\n",
        "    plt.contour(X1, X2, Z, levels=50, cmap='jet')\n",
        "\n",
        "    # Plot Gradient Descent trajectory\n",
        "    gd_x = np.array(trajectory_gd)\n",
        "    plt.plot(gd_x[:, 0], gd_x[:, 1], 'o-', label='Gradient Descent', color='red')\n",
        "\n",
        "    # Plot Newton's Method trajectory\n",
        "    nm_x = np.array(trajectory_nm)\n",
        "    plt.plot(nm_x[:, 0], nm_x[:, 1], 'x-', label=\"Newton's Method\", color='blue')\n",
        "\n",
        "    plt.title('Trajectories of Optimization Methods')\n",
        "    plt.xlabel('$x_1$')\n",
        "    plt.ylabel('$x_2$')\n",
        "    plt.legend()\n",
        "    plt.show()\n",
        "\n",
        "# Run experiments for different n values\n",
        "n_values = [2, 20, 200, 2000, 5000, 10000, 15000, 20000, 30000, 50000, 100000, 200000]\n",
        "results = []\n",
        "\n",
        "for n in n_values:\n",
        "    x0 = np.array([i + 1 for i in range(n)], dtype=float)\n",
        "\n",
        "    # Gradient Descent\n",
        "    x_gd, g_gd, iter_gd, time_gd, traj_gd = gradient_descent(x0)\n",
        "\n",
        "    # Newton's Method\n",
        "    x_nm, g_nm, iter_nm, time_nm, traj_nm = newtons_method(x0)\n",
        "\n",
        "    results.append((n, x_gd, g_gd, iter_gd, time_gd, x_nm, g_nm, iter_nm, time_nm))\n",
        "\n",
        "    if n == 2:\n",
        "        plot_trajectories(traj_gd, traj_nm)\n",
        "\n",
        "# Print results\n",
        "for res in results:\n",
        "    print(f\"n = {res[0]}:\\n Gradient Descent: {res[3]} iterations, {res[4]:.4f}s, g(x) = {res[2]:.6f}\\n Newton's Method: {res[7]} iterations, {res[8]:.4f}s, g(x) = {res[6]:.6f}\\n\")\n"
      ]
    },
    {
      "cell_type": "code",
      "source": [],
      "metadata": {
        "id": "uzLTowRn_qX1"
      },
      "execution_count": null,
      "outputs": []
    }
  ]
}