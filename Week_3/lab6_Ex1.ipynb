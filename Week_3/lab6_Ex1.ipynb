{
  "nbformat": 4,
  "nbformat_minor": 0,
  "metadata": {
    "colab": {
      "provenance": []
    },
    "kernelspec": {
      "name": "python3",
      "display_name": "Python 3"
    },
    "language_info": {
      "name": "python"
    }
  },
  "cells": [
    {
      "cell_type": "code",
      "execution_count": null,
      "metadata": {
        "id": "YxA1JVKqCQkg"
      },
      "outputs": [],
      "source": [
        "import numpy as np\n",
        "from sklearn.datasets import load_digits\n",
        "\n",
        "digits = load_digits()\n",
        "A = digits.data  # Feature matrix\n",
        "y = digits.target.reshape(-1, 1)  # Target labels as a column vector\n"
      ]
    },
    {
      "cell_type": "code",
      "source": [
        "def newtons_method(A, y, regularized=False, lambda_=0.001, tol=1e-6, max_iter=100):\n",
        "    N, d = A.shape\n",
        "    x = np.zeros((d, 1))  # Starting point\n",
        "    for i in range(max_iter):\n",
        "        # Gradient\n",
        "        grad = A.T @ (A @ x - y)\n",
        "        # Hessian\n",
        "        H = A.T @ A\n",
        "        if regularized:\n",
        "            H += lambda_ * np.eye(d)\n",
        "        # Check if Hessian is invertible\n",
        "        if np.linalg.cond(H) > 1 / np.finfo(float).eps:\n",
        "            raise ValueError(\"Hessian is poorly conditioned or singular\")\n",
        "        # Newton step\n",
        "        delta_x = -np.linalg.solve(H, grad)\n",
        "        x += delta_x\n",
        "        # Convergence check\n",
        "        if np.linalg.norm(delta_x) < tol:\n",
        "            break\n",
        "    return x\n",
        "\n",
        "# Solve Direct OLSLR\n",
        "try:\n",
        "    x_star_f = newtons_method(A, y, regularized=False)\n",
        "    print(\"Direct OLSLR Solution:\", x_star_f)\n",
        "except ValueError as e:\n",
        "    print(\"Newton's method failed for Direct OLSLR:\", e)\n",
        "\n",
        "# Solve Regularized OLSLR\n",
        "x_star_f_lambda = newtons_method(A, y, regularized=True, lambda_=0.001)\n",
        "print(\"Regularized OLSLR Solution:\", x_star_f_lambda)\n"
      ],
      "metadata": {
        "colab": {
          "base_uri": "https://localhost:8080/"
        },
        "id": "Ey6-YMZYCRjp",
        "outputId": "e2ec74a3-b0a6-4db3-ab6d-07ae5667bebf"
      },
      "execution_count": null,
      "outputs": [
        {
          "output_type": "stream",
          "name": "stdout",
          "text": [
            "Newton's method failed for Direct OLSLR: Hessian is poorly conditioned or singular\n",
            "Regularized OLSLR Solution: [[ 0.00000000e+00]\n",
            " [ 9.69033568e-02]\n",
            " [-4.32277231e-03]\n",
            " [-7.76028319e-03]\n",
            " [ 7.49594380e-02]\n",
            " [ 1.13947198e-02]\n",
            " [-2.71328245e-02]\n",
            " [-7.33176333e-03]\n",
            " [ 9.98337968e-01]\n",
            " [-2.88095538e-02]\n",
            " [ 1.18688288e-01]\n",
            " [ 6.60916265e-02]\n",
            " [-5.57069862e-02]\n",
            " [-6.97063705e-02]\n",
            " [ 9.65876439e-02]\n",
            " [ 2.55182251e-01]\n",
            " [-7.29828608e-01]\n",
            " [ 2.42709916e-02]\n",
            " [ 7.73249596e-02]\n",
            " [-2.33000278e-02]\n",
            " [-5.64086144e-02]\n",
            " [ 5.72426822e-02]\n",
            " [-4.88717684e-02]\n",
            " [-2.62467763e-01]\n",
            " [-9.06562829e-01]\n",
            " [-1.49767791e-01]\n",
            " [ 5.64019538e-02]\n",
            " [ 8.96663590e-02]\n",
            " [ 8.39318159e-02]\n",
            " [ 9.85411936e-02]\n",
            " [ 1.69317614e-03]\n",
            " [-2.96805758e+00]\n",
            " [ 0.00000000e+00]\n",
            " [-1.54362338e-01]\n",
            " [-9.32361206e-03]\n",
            " [ 1.39497628e-01]\n",
            " [-3.69234835e-02]\n",
            " [ 5.46111776e-02]\n",
            " [-9.20505070e-03]\n",
            " [ 0.00000000e+00]\n",
            " [ 1.03279535e-01]\n",
            " [ 1.23983258e-01]\n",
            " [-1.37639605e-02]\n",
            " [ 5.40087816e-03]\n",
            " [ 1.31185107e-01]\n",
            " [ 5.49570758e-02]\n",
            " [ 2.24938237e-02]\n",
            " [ 7.47977906e-03]\n",
            " [ 6.17755030e-01]\n",
            " [ 2.44122357e-02]\n",
            " [ 1.42333038e-03]\n",
            " [-6.21110760e-02]\n",
            " [-2.07025036e-01]\n",
            " [-3.38506003e-02]\n",
            " [ 1.05486736e-01]\n",
            " [-1.40335957e-01]\n",
            " [-9.84169007e-01]\n",
            " [-1.14467153e-01]\n",
            " [ 2.10494893e-02]\n",
            " [-4.36076105e-02]\n",
            " [ 1.87374934e-02]\n",
            " [-6.66567878e-02]\n",
            " [ 1.19382626e-02]\n",
            " [-5.27776612e-02]]\n"
          ]
        }
      ]
    },
    {
      "cell_type": "code",
      "source": [
        "from scipy.optimize import minimize\n",
        "\n",
        "def objective_f(x, A, y):\n",
        "    x = x.reshape(-1, 1)\n",
        "    return 0.5 * np.linalg.norm(A @ x - y)**2\n",
        "\n",
        "def objective_f_lambda(x, A, y, lambda_):\n",
        "    x = x.reshape(-1, 1)\n",
        "    return 0.5 * np.linalg.norm(A @ x - y)**2 + 0.5 * lambda_ * np.linalg.norm(x)**2\n",
        "\n",
        "# Solve Direct OLSLR\n",
        "res_f = minimize(objective_f, np.zeros(A.shape[1]), args=(A, y), method='BFGS')\n",
        "print(\"Direct OLSLR Solution using BFGS:\", res_f.x)\n",
        "\n",
        "# Solve Regularized OLSLR\n",
        "res_f_lambda = minimize(objective_f_lambda, np.zeros(A.shape[1]), args=(A, y, 0.001), method='BFGS')\n",
        "print(\"Regularized OLSLR Solution using BFGS:\", res_f_lambda.x)\n"
      ],
      "metadata": {
        "colab": {
          "base_uri": "https://localhost:8080/"
        },
        "id": "HYb9uhNPCZSE",
        "outputId": "39a8987f-291e-4a7c-a800-d29bb0288426"
      },
      "execution_count": null,
      "outputs": [
        {
          "output_type": "stream",
          "name": "stdout",
          "text": [
            "Direct OLSLR Solution using BFGS: [ 0.00000000e+00  9.69032519e-02 -4.32277418e-03 -7.76028357e-03\n",
            "  7.49594270e-02  1.13947354e-02 -2.71328231e-02 -7.33192135e-03\n",
            "  9.98339970e-01 -2.88095640e-02  1.18688273e-01  6.60916204e-02\n",
            " -5.57069781e-02 -6.97063698e-02  9.65876318e-02  2.55182542e-01\n",
            " -7.29830547e-01  2.42710064e-02  7.73249715e-02 -2.33000243e-02\n",
            " -5.64086223e-02  5.72426879e-02 -4.88717470e-02 -2.62468568e-01\n",
            " -9.06563425e-01 -1.49767777e-01  5.64019359e-02  8.96663624e-02\n",
            "  8.39318126e-02  9.85411921e-02  1.69317473e-03 -2.96804706e+00\n",
            "  0.00000000e+00 -1.54362307e-01 -9.32362017e-03  1.39497630e-01\n",
            " -3.69234708e-02  5.46111706e-02 -9.20503731e-03  0.00000000e+00\n",
            "  1.03279144e-01  1.23983225e-01 -1.37639580e-02  5.40088603e-03\n",
            "  1.31185098e-01  5.49570751e-02  2.24938464e-02  7.47947781e-03\n",
            "  6.17755047e-01  2.44123266e-02  1.42332594e-03 -6.21110740e-02\n",
            " -2.07025027e-01 -3.38506071e-02  1.05486739e-01 -1.40335868e-01\n",
            " -9.84196352e-01 -1.14467041e-01  2.10495028e-02 -4.36076250e-02\n",
            "  1.87374894e-02 -6.66567879e-02  1.19382606e-02 -5.27776698e-02]\n",
            "Regularized OLSLR Solution using BFGS: [ 0.00000000e+00  9.69076878e-02 -4.32188290e-03 -7.75916826e-03\n",
            "  7.49591877e-02  1.13946632e-02 -2.71293759e-02 -7.34414542e-03\n",
            "  9.98270992e-01 -2.88089305e-02  1.18688343e-01  6.60922740e-02\n",
            " -5.57076010e-02 -6.97056181e-02  9.65843948e-02  2.55196061e-01\n",
            " -7.29839780e-01  2.42711649e-02  7.73241570e-02 -2.33008633e-02\n",
            " -5.64077552e-02  5.72414096e-02 -4.88675095e-02 -2.62556017e-01\n",
            " -9.06043779e-01 -1.49769636e-01  5.64022732e-02  8.96665543e-02\n",
            "  8.39315836e-02  9.85409990e-02  1.69271453e-03 -2.96649594e+00\n",
            "  0.00000000e+00 -1.54361427e-01 -9.32406692e-03  1.39497969e-01\n",
            " -3.69237319e-02  5.46111629e-02 -9.20424304e-03  0.00000000e+00\n",
            "  1.03326999e-01  1.23983449e-01 -1.37635068e-02  5.40029380e-03\n",
            "  1.31185689e-01  5.49578031e-02  2.24936213e-02  7.48057030e-03\n",
            "  6.17508146e-01  2.44100395e-02  1.42357088e-03 -6.21114865e-02\n",
            " -2.07024613e-01 -3.38510611e-02  1.05486760e-01 -1.40336472e-01\n",
            " -9.82345428e-01 -1.14473585e-01  2.10484937e-02 -4.36083361e-02\n",
            "  1.87372195e-02 -6.66561906e-02  1.19384504e-02 -5.27782425e-02]\n"
          ]
        }
      ]
    },
    {
      "cell_type": "code",
      "source": [],
      "metadata": {
        "id": "Q-GmL7NICdkv"
      },
      "execution_count": null,
      "outputs": []
    }
  ]
}